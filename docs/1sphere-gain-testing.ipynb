{
 "cells": [
  {
   "cell_type": "markdown",
   "id": "b6efbaae-e128-45d3-869e-16219835ee3a",
   "metadata": {},
   "source": [
    "# Validation of Gain with Monte Carlo\n",
    "\n",
    "**Scott Prahl**\n",
    "\n",
    "**July 2025**\n",
    "\n",
    "This notebook compares the calculated gain values against those from a Monte Carlo simulation of light bouncing in spheres.\n",
    "\n",
    "Since these are stochastic tests, it is likely that a few of the results will be outside the 90% confidence interval."
   ]
  },
  {
   "cell_type": "code",
   "execution_count": 1,
   "id": "c6b45214-556a-4946-a5a8-f4065c6c5201",
   "metadata": {},
   "outputs": [],
   "source": [
    "import numpy as np\n",
    "import matplotlib.pyplot as plt\n",
    "import matplotlib.gridspec as gridspec\n",
    "import scipy.stats as stats\n",
    "\n",
    "import iadpython\n",
    "\n",
    "%config InlineBackend.figure_format='retina'\n",
    "\n",
    "\n",
    "def p_value(x, x_std_err, y):\n",
    "    \"\"\"p-value that x matches known y.\"\"\"\n",
    "    # Calculate the z-score\n",
    "    z_score = (y - x) / x_std_err\n",
    "\n",
    "    # Calculate the probability from the z-score\n",
    "    p = 2 * (1 - stats.norm.cdf(abs(z_score)))\n",
    "\n",
    "    return p\n",
    "\n",
    "\n",
    "def calculate_confidence_interval(data, confidence=0.90):\n",
    "    n = len(data)\n",
    "    mean = np.mean(data)\n",
    "    std_dev = np.std(data, ddof=1)  # ddof=1 returns the sample standard deviation\n",
    "    std_err = std_dev / np.sqrt(n)\n",
    "\n",
    "    # Find the critical value for the 90% confidence interval\n",
    "    t_critical = stats.t.ppf((1 + confidence) / 2, df=n - 1)\n",
    "\n",
    "    margin_of_error = t_critical * std_err\n",
    "    confidence_interval = (mean - margin_of_error, mean + margin_of_error)\n",
    "\n",
    "    return mean, confidence_interval\n",
    "\n",
    "\n",
    "def test_gain(s, N=100000):\n",
    "    analytic_gain = s.gain()\n",
    "\n",
    "    gains, _ = s.do_N_photons_gain_array(N, num_trials=20)\n",
    "    _, ci = calculate_confidence_interval(gains)\n",
    "\n",
    "    status = \"bad\"\n",
    "    if ci[0] <= analytic_gain <= ci[1]:\n",
    "        status = \"good\"\n",
    "\n",
    "    print(\"upper 90%% ci       = %.3f\" % ci[1])\n",
    "    print(\"analytic gain      = %.3f (%s)\" % (analytic_gain, status))\n",
    "    print(\"lower 90%% ci       = %.3f\" % ci[0])\n",
    "\n",
    "\n",
    "def default_sphere():\n",
    "    R = 30\n",
    "    d_sphere = 2 * R\n",
    "    d_sample = 20\n",
    "    d_third = 15\n",
    "    d_detector = 10\n",
    "    s = iadpython.Sphere(\n",
    "        d_sphere,\n",
    "        d_sample,\n",
    "        d_third=d_third,\n",
    "        d_detector=d_detector,\n",
    "        r_detector=0.5,\n",
    "        r_wall=0.75,\n",
    "        r_std=0.8,\n",
    "    )\n",
    "    return s"
   ]
  },
  {
   "cell_type": "markdown",
   "id": "0a006eb4-7dc8-43db-8bab-76f80e383d9b",
   "metadata": {},
   "source": [
    "## Check no baffle calculations"
   ]
  },
  {
   "cell_type": "markdown",
   "id": "c386a67b-5952-49f8-a25f-53c51ef37e24",
   "metadata": {},
   "source": [
    "### case 1, third = empty, sample = empty, no baffle"
   ]
  },
  {
   "cell_type": "code",
   "execution_count": 10,
   "id": "d0d17e7f-d268-4479-af1e-9b3195365724",
   "metadata": {},
   "outputs": [
    {
     "name": "stdout",
     "output_type": "stream",
     "text": [
      "case 1, third = empty, sample = empty, no baffle\n",
      "Sphere: d=60.00, r_wall= 75.0%, r_std= 80.0%, baffle= False\n",
      "    Sample: d= 20.0mm, uru=  0.0%\n",
      "     Third: d= 15.0mm, uru=  0.0%\n",
      "  Detector: d= 10.0mm, uru= 50.0%\n",
      "\n",
      "upper 90% ci       = 3.699\n",
      "analytic gain      = 3.518 (good)\n",
      "lower 90% ci       = 3.515\n",
      "\n"
     ]
    }
   ],
   "source": [
    "print(\"case 1, third = empty, sample = empty, no baffle\")\n",
    "s = default_sphere()\n",
    "s.sample.uru = 0.0\n",
    "s.third.uru = 0.00\n",
    "print(repr(s))\n",
    "test_gain(s)\n",
    "print()"
   ]
  },
  {
   "cell_type": "markdown",
   "id": "6b757164-7b34-43f9-8c8c-adf8130e8b02",
   "metadata": {},
   "source": [
    "### case 2, third = empty, sample = 50%, no baffle"
   ]
  },
  {
   "cell_type": "code",
   "execution_count": 11,
   "id": "0a7f811c-2c06-45b6-976e-08f0b49b5ff5",
   "metadata": {},
   "outputs": [
    {
     "name": "stdout",
     "output_type": "stream",
     "text": [
      "case 2, third = empty, sample = 50%, no baffle\n",
      "Sphere: d=60.00, r_wall= 75.0%, r_std= 80.0%, baffle= False\n",
      "    Sample: d= 20.0mm, uru= 50.0%\n",
      "     Third: d= 15.0mm, uru=  0.0%\n",
      "  Detector: d= 10.0mm, uru= 50.0%\n",
      "\n",
      "upper 90% ci       = 3.766\n",
      "analytic gain      = 3.698 (good)\n",
      "lower 90% ci       = 3.591\n",
      "\n"
     ]
    }
   ],
   "source": [
    "print(\"case 2, third = empty, sample = 50%, no baffle\")\n",
    "s = default_sphere()\n",
    "s.sample.uru = 0.5\n",
    "s.third.uru = 0.0\n",
    "print(repr(s))\n",
    "test_gain(s)\n",
    "print()"
   ]
  },
  {
   "cell_type": "markdown",
   "id": "4ebb0bd6-3547-47ae-8012-6eca82911fb8",
   "metadata": {},
   "source": [
    "### case 3, third = 95%, sample = 50%, no baffle"
   ]
  },
  {
   "cell_type": "code",
   "execution_count": 12,
   "id": "dede6bbf-7139-473f-8624-d13aa9432b84",
   "metadata": {},
   "outputs": [
    {
     "name": "stdout",
     "output_type": "stream",
     "text": [
      "case 3, third = 95%, sample = 50%, no baffle\n",
      "Sphere: d=60.00, r_wall= 75.0%, r_std= 80.0%, baffle= False\n",
      "    Sample: d= 20.0mm, uru= 50.0%\n",
      "     Third: d= 15.0mm, uru= 95.0%\n",
      "  Detector: d= 10.0mm, uru= 50.0%\n",
      "\n",
      "upper 90% ci       = 4.085\n",
      "analytic gain      = 3.913 (good)\n",
      "lower 90% ci       = 3.901\n"
     ]
    }
   ],
   "source": [
    "print(\"case 3, third = 95%, sample = 50%, no baffle\")\n",
    "s = default_sphere()\n",
    "s.sample.uru = 0.5\n",
    "s.third.uru = 0.95\n",
    "print(repr(s))\n",
    "test_gain(s)"
   ]
  },
  {
   "cell_type": "markdown",
   "id": "06e26c6e-6f64-4ea1-8a93-4b79ef49a851",
   "metadata": {},
   "source": [
    "## Check baffle calculations\n",
    "\n",
    "### case 1, third = empty, sample = empty, baffle"
   ]
  },
  {
   "cell_type": "code",
   "execution_count": 5,
   "id": "9ae90523-a161-4c13-a2b7-6085cc2d8c61",
   "metadata": {},
   "outputs": [
    {
     "name": "stdout",
     "output_type": "stream",
     "text": [
      "case 1, third = empty, sample = empty, baffle\n",
      "Sphere: d=60.00, r_wall= 75.0%, r_std= 80.0%, baffle= True\n",
      "    Sample: d= 20.0mm, uru=  0.0%\n",
      "     Third: d= 15.0mm, uru=  0.0%\n",
      "  Detector: d= 10.0mm, uru= 50.0%\n",
      "\n",
      "upper 90% ci       = 3.661\n",
      "analytic gain      = 3.506 (bad)\n",
      "lower 90% ci       = 3.525\n",
      "\n"
     ]
    }
   ],
   "source": [
    "print(\"case 1, third = empty, sample = empty, baffle\")\n",
    "s = default_sphere()\n",
    "s.baffle = True\n",
    "s.sample.uru = 0.0\n",
    "s.third.uru = 0.00\n",
    "print(repr(s))\n",
    "test_gain(s)\n",
    "print()"
   ]
  },
  {
   "cell_type": "markdown",
   "id": "73a624a4-77ea-46bc-8c86-5bd443c7c58c",
   "metadata": {},
   "source": [
    "### case 2, third = empty, sample = 50%, baffle"
   ]
  },
  {
   "cell_type": "code",
   "execution_count": 6,
   "id": "3368e08a-9c70-4aa8-b91c-a00951311a93",
   "metadata": {},
   "outputs": [
    {
     "name": "stdout",
     "output_type": "stream",
     "text": [
      "case 2, third = empty, sample = 50%, baffle\n",
      "Sphere: d=60.00, r_wall= 75.0%, r_std= 80.0%, baffle= True\n",
      "    Sample: d= 20.0mm, uru= 50.0%\n",
      "     Third: d= 15.0mm, uru=  0.0%\n",
      "  Detector: d= 10.0mm, uru= 50.0%\n",
      "\n",
      "upper 90% ci       = 3.751\n",
      "analytic gain      = 3.637 (good)\n",
      "lower 90% ci       = 3.597\n",
      "\n"
     ]
    }
   ],
   "source": [
    "print(\"case 2, third = empty, sample = 50%, baffle\")\n",
    "s = default_sphere()\n",
    "s.baffle = True\n",
    "s.sample.uru = 0.5\n",
    "s.third.uru = 0.0\n",
    "print(repr(s))\n",
    "test_gain(s)\n",
    "print()"
   ]
  },
  {
   "cell_type": "markdown",
   "id": "257d5e3d-adbd-4a4f-a411-bdf9b8396576",
   "metadata": {},
   "source": [
    "### case 3, third = 95%, sample = 50%, baffle"
   ]
  },
  {
   "cell_type": "code",
   "execution_count": 16,
   "id": "008f8cc6-5982-4018-a049-831b32471bf1",
   "metadata": {},
   "outputs": [
    {
     "name": "stdout",
     "output_type": "stream",
     "text": [
      "case 3, third = 95%, sample = 50%, baffle\n",
      "Sphere: d=60.00, r_wall= 75.0%, r_std= 80.0%, baffle= True\n",
      "    Sample: d= 20.0mm, uru= 50.0%\n",
      "     Third: d= 15.0mm, uru= 95.0%\n",
      "  Detector: d= 10.0mm, uru= 50.0%\n",
      "\n",
      "upper 90% ci       = 3.969\n",
      "analytic gain      = 3.849 (good)\n",
      "lower 90% ci       = 3.777\n"
     ]
    }
   ],
   "source": [
    "print(\"case 3, third = 95%, sample = 50%, baffle\")\n",
    "s = default_sphere()\n",
    "s.baffle = True\n",
    "s.sample.uru = 0.5\n",
    "s.third.uru = 0.95\n",
    "print(repr(s))\n",
    "test_gain(s)"
   ]
  },
  {
   "cell_type": "markdown",
   "id": "cf090f34-3cd6-45db-9e6e-b7eadda9a87b",
   "metadata": {},
   "source": [
    "#### case 4, third = 25, sample = 95%, baffle"
   ]
  },
  {
   "cell_type": "code",
   "execution_count": 18,
   "id": "eb8e7898-b508-425b-8be0-2c2c72bd4301",
   "metadata": {},
   "outputs": [
    {
     "name": "stdout",
     "output_type": "stream",
     "text": [
      "case 4, third = 25%, sample = 95%, baffle\n",
      "Sphere: d=60.00, r_wall= 75.0%, r_std= 80.0%, baffle= True\n",
      "    Sample: d= 20.0mm, uru= 95.0%\n",
      "     Third: d= 15.0mm, uru= 25.0%\n",
      "  Detector: d= 10.0mm, uru= 50.0%\n",
      "\n",
      "upper 90% ci       = 3.882\n",
      "analytic gain      = 3.821 (good)\n",
      "lower 90% ci       = 3.705\n"
     ]
    }
   ],
   "source": [
    "print(\"case 4, third = 25%, sample = 95%, baffle\")\n",
    "s = default_sphere()\n",
    "s.baffle = True\n",
    "s.sample.uru = 0.95\n",
    "s.third.uru = 0.25\n",
    "print(repr(s))\n",
    "test_gain(s)"
   ]
  },
  {
   "cell_type": "code",
   "execution_count": null,
   "id": "87d82e2c-d93a-40e1-a4e2-2012965230e3",
   "metadata": {},
   "outputs": [],
   "source": []
  }
 ],
 "metadata": {
  "kernelspec": {
   "display_name": "Python 3 (ipykernel)",
   "language": "python",
   "name": "python3"
  },
  "language_info": {
   "codemirror_mode": {
    "name": "ipython",
    "version": 3
   },
   "file_extension": ".py",
   "mimetype": "text/x-python",
   "name": "python",
   "nbconvert_exporter": "python",
   "pygments_lexer": "ipython3",
   "version": "3.13.2"
  }
 },
 "nbformat": 4,
 "nbformat_minor": 5
}
