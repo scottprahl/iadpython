{
 "cells": [
  {
   "cell_type": "markdown",
   "metadata": {},
   "source": [
    "# IAD with Spheres\n",
    "\n",
    "**Scott Prahl**\n",
    "\n",
    "**March 2019**\n",
    "\n",
    "**version 1**\n",
    "\n",
    "A series of functionality tests to validate implementation of the influence of spheres on the inverse radiative transfer problem."
   ]
  },
  {
   "cell_type": "code",
   "execution_count": 1,
   "metadata": {},
   "outputs": [],
   "source": [
    "import numpy as np\n",
    "import matplotlib.pyplot as plt\n",
    "import iadpython\n",
    "\n",
    "%config InlineBackend.figure_format='retina'"
   ]
  },
  {
   "cell_type": "markdown",
   "metadata": {},
   "source": [
    "## Checking imports\n",
    "\n",
    "Basic sanity check to validate that module was imported"
   ]
  },
  {
   "cell_type": "markdown",
   "metadata": {},
   "source": [
    "## Verifying basic functionality of the objects"
   ]
  },
  {
   "cell_type": "code",
   "execution_count": 2,
   "metadata": {},
   "outputs": [
    {
     "name": "stdout",
     "output_type": "stream",
     "text": [
      "Intrinsic Properties\n",
      "   albedo              = 0.000\n",
      "   optical thickness   = 1.000\n",
      "   anisotropy          = 0.000\n",
      "   thickness           = 1.000 mm\n",
      "   sample index        = 1.000\n",
      "   top slide index     = 1.000\n",
      "   bottom slide index  = 1.000\n",
      "   cos(theta incident) = 1.000\n",
      "   quadrature points   = 4\n",
      "\n",
      "Derived quantities\n",
      "   mu_a                = 1.000 1/mm\n",
      "   mu_s                = 0.000 1/mm\n",
      "   mu_s*(1-g)          = 0.000 1/mm\n",
      "       theta incident  = 0.0°\n",
      "   cos(theta critical) = 0.0000\n",
      "       theta critical  = 90.0°\n",
      "\n",
      "[0, 1, 0, 1, 1]\n"
     ]
    }
   ],
   "source": [
    "ss = iadpython.Sample()\n",
    "print(ss)\n",
    "print(ss.as_array())"
   ]
  },
  {
   "cell_type": "code",
   "execution_count": 3,
   "metadata": {},
   "outputs": [
    {
     "name": "stdout",
     "output_type": "stream",
     "text": [
      "Sphere diameter = 152.4 mm\n",
      "Port diameters\n",
      "         sample = 25.4 mm\n",
      "       empty = 0.0 mm\n",
      "       detector = 0.0 mm\n",
      "Fractional areas of sphere\n",
      "          walls = 0.99301\n",
      "         sample = 0.00699\n",
      "       empty = 0.00000\n",
      "       detector = 0.00000\n",
      "Diffuse reflectivities\n",
      "          walls = 99.0%\n",
      "       detector = 0.0%\n",
      "       standard = 99.0%\n",
      "Gain\n",
      "        nothing = 0.0\n",
      "       standard = 99.0\n",
      "\n",
      "Sphere diameter = 152.4 mm\n",
      "Port diameters\n",
      "         sample = 25.4 mm\n",
      "       empty = 0.0 mm\n",
      "       detector = 0.0 mm\n",
      "Fractional areas of sphere\n",
      "          walls = 0.99301\n",
      "         sample = 0.00699\n",
      "       empty = 0.00000\n",
      "       detector = 0.00000\n",
      "Diffuse reflectivities\n",
      "          walls = 99.0%\n",
      "       detector = 0.0%\n",
      "       standard = 99.0%\n",
      "Gain\n",
      "        nothing = 0.0\n",
      "       standard = 99.0\n",
      "\n"
     ]
    }
   ],
   "source": [
    "d_sphere = 6 * 25.4\n",
    "d_sample = 1 * 25.4\n",
    "rs = iadpython.Sphere(d_sphere, d_sample)\n",
    "ts = iadpython.Sphere(d_sphere, d_sample)\n",
    "\n",
    "print(rs)\n",
    "print(ts)"
   ]
  },
  {
   "cell_type": "code",
   "execution_count": 3,
   "metadata": {},
   "outputs": [
    {
     "ename": "AttributeError",
     "evalue": "module 'iadpython' has no attribute 'Illumination'",
     "output_type": "error",
     "traceback": [
      "\u001b[0;31m---------------------------------------------------------------------------\u001b[0m",
      "\u001b[0;31mAttributeError\u001b[0m                            Traceback (most recent call last)",
      "Cell \u001b[0;32mIn[3], line 1\u001b[0m\n\u001b[0;32m----> 1\u001b[0m ilum \u001b[38;5;241m=\u001b[39m \u001b[43miadpython\u001b[49m\u001b[38;5;241;43m.\u001b[39;49m\u001b[43mIllumination\u001b[49m()\n\u001b[1;32m      2\u001b[0m \u001b[38;5;28mprint\u001b[39m(ilum)\n\u001b[1;32m      3\u001b[0m \u001b[38;5;28mprint\u001b[39m(ilum\u001b[38;5;241m.\u001b[39mas_array())\n",
      "\u001b[0;31mAttributeError\u001b[0m: module 'iadpython' has no attribute 'Illumination'"
     ]
    }
   ],
   "source": [
    "ilum = iadpython.Illumination()\n",
    "print(ilum)\n",
    "print(ilum.as_array())"
   ]
  },
  {
   "cell_type": "code",
   "execution_count": 4,
   "metadata": {
    "scrolled": true
   },
   "outputs": [
    {
     "ename": "AttributeError",
     "evalue": "module 'iadpython' has no attribute 'Measurement'",
     "output_type": "error",
     "traceback": [
      "\u001b[0;31m---------------------------------------------------------------------------\u001b[0m",
      "\u001b[0;31mAttributeError\u001b[0m                            Traceback (most recent call last)",
      "Cell \u001b[0;32mIn[4], line 1\u001b[0m\n\u001b[0;32m----> 1\u001b[0m m \u001b[38;5;241m=\u001b[39m \u001b[43miadpython\u001b[49m\u001b[38;5;241;43m.\u001b[39;49m\u001b[43mMeasurement\u001b[49m()\n\u001b[1;32m      2\u001b[0m \u001b[38;5;28mprint\u001b[39m(m)\n\u001b[1;32m      3\u001b[0m \u001b[38;5;28mprint\u001b[39m(m\u001b[38;5;241m.\u001b[39mas_array())\n",
      "\u001b[0;31mAttributeError\u001b[0m: module 'iadpython' has no attribute 'Measurement'"
     ]
    }
   ],
   "source": [
    "m = iadpython.Measurement()\n",
    "print(m)\n",
    "print(m.as_array())"
   ]
  },
  {
   "cell_type": "code",
   "execution_count": 5,
   "metadata": {},
   "outputs": [
    {
     "ename": "AttributeError",
     "evalue": "module 'iadpython' has no attribute 'Analysis'",
     "output_type": "error",
     "traceback": [
      "\u001b[0;31m---------------------------------------------------------------------------\u001b[0m",
      "\u001b[0;31mAttributeError\u001b[0m                            Traceback (most recent call last)",
      "Cell \u001b[0;32mIn[5], line 1\u001b[0m\n\u001b[0;32m----> 1\u001b[0m aa \u001b[38;5;241m=\u001b[39m \u001b[43miadpython\u001b[49m\u001b[38;5;241;43m.\u001b[39;49m\u001b[43mAnalysis\u001b[49m()\n\u001b[1;32m      2\u001b[0m \u001b[38;5;28mprint\u001b[39m(aa)\n\u001b[1;32m      3\u001b[0m \u001b[38;5;28mprint\u001b[39m(aa\u001b[38;5;241m.\u001b[39mas_array())\n",
      "\u001b[0;31mAttributeError\u001b[0m: module 'iadpython' has no attribute 'Analysis'"
     ]
    }
   ],
   "source": [
    "aa = iadpython.Analysis()\n",
    "print(aa)\n",
    "print(aa.as_array())"
   ]
  },
  {
   "cell_type": "code",
   "execution_count": 6,
   "metadata": {},
   "outputs": [
    {
     "name": "stdout",
     "output_type": "stream",
     "text": [
      "---------------- Sample ---------------\n",
      "Intrinsic Properties\n",
      "   albedo              = 0.000\n",
      "   optical thickness   = 1.000\n",
      "   anisotropy          = 0.000\n",
      "   thickness           = 1.000 mm\n",
      "   sample index        = 1.000\n",
      "   top slide index     = 1.000\n",
      "   bottom slide index  = 1.000\n",
      "   cos(theta incident) = 1.000\n",
      "   quadrature points   = 4\n",
      "\n",
      "Derived quantities\n",
      "   mu_a                = 1.000 1/mm\n",
      "   mu_s                = 0.000 1/mm\n",
      "   mu_s*(1-g)          = 0.000 1/mm\n",
      "       theta incident  = 0.0°\n",
      "   cos(theta critical) = 0.0000\n",
      "       theta critical  = 90.0°\n",
      "\n",
      "--------------- Spheres ---------------\n",
      "No spheres used.\n",
      "\n",
      "------------- Measurements ------------\n",
      "   Reflection               = None\n",
      "   Transmission             = None\n",
      "   Unscattered Transmission = None\n",
      "\n"
     ]
    }
   ],
   "source": [
    "e = iadpython.Experiment()\n",
    "print(e)"
   ]
  },
  {
   "cell_type": "code",
   "execution_count": 7,
   "metadata": {
    "tags": []
   },
   "outputs": [
    {
     "data": {
      "text/plain": [
       "['AD_MAX_THICKNESS',\n",
       " 'Enum',\n",
       " 'Experiment',\n",
       " 'Gain_11',\n",
       " 'Gain_22',\n",
       " 'Grid',\n",
       " 'IADResult',\n",
       " 'Port',\n",
       " 'PortType',\n",
       " 'Sample',\n",
       " 'Sphere',\n",
       " 'Two_Sphere_R',\n",
       " 'Two_Sphere_T',\n",
       " '__author__',\n",
       " '__builtins__',\n",
       " '__cached__',\n",
       " '__copyright__',\n",
       " '__doc__',\n",
       " '__email__',\n",
       " '__file__',\n",
       " '__license__',\n",
       " '__loader__',\n",
       " '__name__',\n",
       " '__package__',\n",
       " '__path__',\n",
       " '__spec__',\n",
       " '__url__',\n",
       " '__version__',\n",
       " 'abfun',\n",
       " 'absorbing_glass_RT',\n",
       " 'ad',\n",
       " 'add_layers',\n",
       " 'add_layers_basic',\n",
       " 'add_same_slides',\n",
       " 'add_slide_above',\n",
       " 'add_slide_below',\n",
       " 'afun',\n",
       " 'agfun',\n",
       " 'all_average_reflectances',\n",
       " 'bfun',\n",
       " 'bgfun',\n",
       " 'boundary_layer',\n",
       " 'boundary_matrices',\n",
       " 'combine',\n",
       " 'constants',\n",
       " 'copy',\n",
       " 'cos_critical',\n",
       " 'cos_snell',\n",
       " 'diamond',\n",
       " 'diffuse_glass_R',\n",
       " 'fresnel',\n",
       " 'fresnel_reflection',\n",
       " 'gauss',\n",
       " 'gfun',\n",
       " 'glass',\n",
       " 'grid',\n",
       " 'hg_elliptic',\n",
       " 'hg_legendre',\n",
       " 'iad',\n",
       " 'iadpython',\n",
       " 'igi',\n",
       " 'lobatto',\n",
       " 'matrix_as_string',\n",
       " 'nist',\n",
       " 'np',\n",
       " 'port',\n",
       " 'quadrature',\n",
       " 'radau',\n",
       " 'random',\n",
       " 'read_and_remove_notation',\n",
       " 'read_rxt',\n",
       " 'read_txt',\n",
       " 'redistribution',\n",
       " 'rxt',\n",
       " 'scipy',\n",
       " 'simple_layer_matrices',\n",
       " 'specular_rt',\n",
       " 'sphere',\n",
       " 'start',\n",
       " 'starting_thickness',\n",
       " 'stringify',\n",
       " 'subject_average_reflectance',\n",
       " 'subject_reflectances',\n",
       " 'sys',\n",
       " 'thinnest_layer',\n",
       " 'time',\n",
       " 'txt',\n",
       " 'uniform_disk',\n",
       " 'unscattered_rt',\n",
       " 'zero_layer']"
      ]
     },
     "execution_count": 7,
     "metadata": {},
     "output_type": "execute_result"
    }
   ],
   "source": [
    "dir(iadpython)"
   ]
  },
  {
   "cell_type": "markdown",
   "metadata": {},
   "source": [
    "## Testing the inversion process\n",
    "\n",
    "### First validate that changing one thing works"
   ]
  },
  {
   "cell_type": "code",
   "execution_count": 8,
   "metadata": {},
   "outputs": [
    {
     "ename": "AttributeError",
     "evalue": "'Experiment' object has no attribute 'invert'",
     "output_type": "error",
     "traceback": [
      "\u001b[0;31m---------------------------------------------------------------------------\u001b[0m",
      "\u001b[0;31mAttributeError\u001b[0m                            Traceback (most recent call last)",
      "Cell \u001b[0;32mIn[8], line 2\u001b[0m\n\u001b[1;32m      1\u001b[0m e \u001b[38;5;241m=\u001b[39m iadpython\u001b[38;5;241m.\u001b[39mExperiment()\n\u001b[0;32m----> 2\u001b[0m a,b,g \u001b[38;5;241m=\u001b[39m \u001b[43me\u001b[49m\u001b[38;5;241;43m.\u001b[39;49m\u001b[43minvert\u001b[49m()\n\u001b[1;32m      3\u001b[0m \u001b[38;5;28mprint\u001b[39m(\u001b[38;5;124m\"\u001b[39m\u001b[38;5;124mWith num_spheres = \u001b[39m\u001b[38;5;132;01m%d\u001b[39;00m\u001b[38;5;124m\"\u001b[39m \u001b[38;5;241m%\u001b[39m e\u001b[38;5;241m.\u001b[39millumination\u001b[38;5;241m.\u001b[39mnum_spheres)\n\u001b[1;32m      4\u001b[0m \u001b[38;5;28mprint\u001b[39m(\u001b[38;5;124m\"\u001b[39m\u001b[38;5;124m    mu_s = \u001b[39m\u001b[38;5;132;01m%.3f\u001b[39;00m\u001b[38;5;124m/mm\u001b[39m\u001b[38;5;124m\"\u001b[39m \u001b[38;5;241m%\u001b[39m (a\u001b[38;5;241m*\u001b[39mb\u001b[38;5;241m/\u001b[39me\u001b[38;5;241m.\u001b[39msample\u001b[38;5;241m.\u001b[39msample_thickness))\n",
      "\u001b[0;31mAttributeError\u001b[0m: 'Experiment' object has no attribute 'invert'"
     ]
    }
   ],
   "source": [
    "e = iadpython.Experiment()\n",
    "a, b, g = e.invert()\n",
    "print(\"With num_spheres = %d\" % e.illumination.num_spheres)\n",
    "print(\"    mu_s = %.3f/mm\" % (a * b / e.sample.sample_thickness))\n",
    "print(\"    mu_a = %.3f/mm\" % ((1 - a) * b / e.sample.sample_thickness))\n",
    "print(\"    g    = %.4f\" % g)\n",
    "print()\n",
    "\n",
    "e.illumination.num_spheres = 1\n",
    "a, b, g = e.invert()\n",
    "print(\"With num_spheres = %d\" % e.illumination.num_spheres)\n",
    "print(\"    mu_s = %.3f/mm\" % (a * b / e.sample.sample_thickness))\n",
    "print(\"    mu_a = %.3f/mm\" % ((1 - a) * b / e.sample.sample_thickness))\n",
    "print(\"    g    = %.4f\" % g)\n",
    "print()\n",
    "\n",
    "e.illumination.num_spheres = 2\n",
    "a, b, g = e.invert()\n",
    "print(\"With num_spheres = %d\" % e.illumination.num_spheres)\n",
    "print(\"    mu_s = %.3f/mm\" % (a * b / e.sample.sample_thickness))\n",
    "print(\"    mu_a = %.3f/mm\" % ((1 - a) * b / e.sample.sample_thickness))\n",
    "print(\"    g    = %.4f\" % g)\n",
    "print()"
   ]
  },
  {
   "cell_type": "code",
   "execution_count": null,
   "metadata": {},
   "outputs": [],
   "source": []
  }
 ],
 "metadata": {
  "kernelspec": {
   "display_name": "Python 3 (ipykernel)",
   "language": "python",
   "name": "python3"
  },
  "language_info": {
   "codemirror_mode": {
    "name": "ipython",
    "version": 3
   },
   "file_extension": ".py",
   "mimetype": "text/x-python",
   "name": "python",
   "nbconvert_exporter": "python",
   "pygments_lexer": "ipython3",
   "version": "3.12.2"
  }
 },
 "nbformat": 4,
 "nbformat_minor": 4
}
