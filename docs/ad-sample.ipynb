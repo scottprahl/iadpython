{
 "cells": [
  {
   "cell_type": "markdown",
   "id": "multiple-joseph",
   "metadata": {},
   "source": [
    "# Adding-Doubling Sample\n",
    "\n",
    "**Scott Prahl**\n",
    "\n",
    "**May 2024**"
   ]
  },
  {
   "cell_type": "code",
   "execution_count": 1,
   "id": "sound-illinois",
   "metadata": {},
   "outputs": [],
   "source": [
    "import iadpython"
   ]
  },
  {
   "cell_type": "markdown",
   "id": "referenced-homeless",
   "metadata": {},
   "source": [
    "## Object creation"
   ]
  },
  {
   "cell_type": "markdown",
   "id": "understanding-defensive",
   "metadata": {},
   "source": [
    "The `Sample` object contains all the information needed to calculate the reflected and transmitted light for a 1D air-slide-sample-slide-air sandwich.  \n",
    "\n",
    "If glass slides are not present, then they can be set to have an index of refraction equal to 1 (that of the air).\n",
    "\n",
    "The default object created by `Sample()` is absorbing-only, 1mm thick, with an index of refraction of 1. "
   ]
  },
  {
   "cell_type": "code",
   "execution_count": 2,
   "id": "appointed-familiar",
   "metadata": {},
   "outputs": [
    {
     "name": "stdout",
     "output_type": "stream",
     "text": [
      "Intrinsic Properties\n",
      "   albedo              = 0.000\n",
      "   optical thickness   = 1.000\n",
      "   anisotropy          = 0.000\n",
      "   thickness           = 1.000 mm\n",
      "   sample index        = 1.000\n",
      "   top slide index     = 1.000\n",
      "   bottom slide index  = 1.000\n",
      "   cos(theta incident) = 1.000\n",
      "   quadrature points   = 4\n",
      "\n",
      "Derived quantities\n",
      "   mu_a                = 1.000 1/mm\n",
      "   mu_s                = 0.000 1/mm\n",
      "   mu_s*(1-g)          = 0.000 1/mm\n",
      "       theta incident  = 0.0°\n",
      "   cos(theta critical) = 0.0000\n",
      "       theta critical  = 90.0°\n",
      "\n"
     ]
    }
   ],
   "source": [
    "s = iadpython.Sample()\n",
    "print(s)"
   ]
  },
  {
   "cell_type": "markdown",
   "id": "offshore-significance",
   "metadata": {},
   "source": [
    "The correct values can be used when the sample object is created."
   ]
  },
  {
   "cell_type": "code",
   "execution_count": 3,
   "id": "satisfied-tuition",
   "metadata": {},
   "outputs": [
    {
     "name": "stdout",
     "output_type": "stream",
     "text": [
      "Intrinsic Properties\n",
      "   albedo              = 0.800\n",
      "   optical thickness   = 2.000\n",
      "   anisotropy          = 0.900\n",
      "   thickness           = 2.000 mm\n",
      "   sample index        = 1.000\n",
      "   top slide index     = 1.000\n",
      "   bottom slide index  = 1.000\n",
      "   cos(theta incident) = 1.000\n",
      "   quadrature points   = 4\n",
      "\n",
      "Derived quantities\n",
      "   mu_a                = 0.200 1/mm\n",
      "   mu_s                = 0.800 1/mm\n",
      "   mu_s*(1-g)          = 0.080 1/mm\n",
      "       theta incident  = 0.0°\n",
      "   cos(theta critical) = 0.0000\n",
      "       theta critical  = 90.0°\n",
      "\n"
     ]
    }
   ],
   "source": [
    "a = 0.8  # albedo\n",
    "b = 2.0  # optical thickness\n",
    "g = 0.9  # scattering anisotropy\n",
    "d = 2.0  # physical thickness of the sample\n",
    "s = iadpython.Sample(a=a, b=b, g=g, d=d)\n",
    "print(s)"
   ]
  },
  {
   "cell_type": "markdown",
   "id": "caring-priest",
   "metadata": {},
   "source": [
    "Or all the values can be changed."
   ]
  },
  {
   "cell_type": "code",
   "execution_count": 4,
   "id": "middle-cassette",
   "metadata": {},
   "outputs": [
    {
     "name": "stdout",
     "output_type": "stream",
     "text": [
      "Intrinsic Properties\n",
      "   albedo              = 0.990\n",
      "   optical thickness   = 2.000\n",
      "   anisotropy          = 0.900\n",
      "   thickness           = 2.000 mm\n",
      "   sample index        = 1.300\n",
      "   top slide index     = 1.532\n",
      "   bottom slide index  = 1.532\n",
      "   cos(theta incident) = 1.000\n",
      "   quadrature points   = 8\n",
      "\n",
      "Derived quantities\n",
      "   mu_a                = 0.010 1/mm\n",
      "   mu_s                = 0.990 1/mm\n",
      "   mu_s*(1-g)          = 0.099 1/mm\n",
      "       theta incident  = 0.0°\n",
      "   cos(theta critical) = 0.6390\n",
      "       theta critical  = 50.3°\n",
      "\n"
     ]
    }
   ],
   "source": [
    "s = iadpython.Sample()\n",
    "s.a = 0.99  # albedo\n",
    "s.b = 2.0  # optical thickness\n",
    "s.g = 0.9  # scattering anisotropy\n",
    "s.d = 2.0  # physical thickness of the sample\n",
    "s.quad_pts = 8\n",
    "s.n = 1.3\n",
    "s.n_above = 1.532\n",
    "s.n_below = 1.532\n",
    "print(s)"
   ]
  },
  {
   "cell_type": "markdown",
   "id": "liable-margin",
   "metadata": {},
   "source": [
    "## Calculated values"
   ]
  },
  {
   "cell_type": "markdown",
   "id": "pressing-stylus",
   "metadata": {},
   "source": [
    "The scattering and absorption coeffients easily obtained."
   ]
  },
  {
   "cell_type": "code",
   "execution_count": 5,
   "id": "opened-swift",
   "metadata": {},
   "outputs": [
    {
     "name": "stdout",
     "output_type": "stream",
     "text": [
      "The scattering coefficient is 0.990 [1/mm]\n",
      "The absorption coefficient is 0.010 [1/mm]\n",
      "The reduced scattering coefficient is 0.099 [1/mm]\n"
     ]
    }
   ],
   "source": [
    "print(\"The scattering coefficient is %.3f [1/mm]\" % s.mu_s())\n",
    "print(\"The absorption coefficient is %.3f [1/mm]\" % s.mu_a())\n",
    "print(\"The reduced scattering coefficient is %.3f [1/mm]\" % s.mu_sp())"
   ]
  },
  {
   "cell_type": "markdown",
   "id": "earned-supervisor",
   "metadata": {},
   "source": [
    "The quadrature angles and weight might also be found."
   ]
  },
  {
   "cell_type": "code",
   "execution_count": 6,
   "id": "moved-trunk",
   "metadata": {},
   "outputs": [
    {
     "name": "stdout",
     "output_type": "stream",
     "text": [
      " i    mu    weight  2*mu*w\n",
      " 0 0.04436 0.11113 0.00986\n",
      " 1 0.21087 0.20835 0.08787\n",
      " 2 0.42810 0.20835 0.17839\n",
      " 3 0.59461 0.11113 0.13216\n",
      " 4 0.67095 0.07959 0.10681\n",
      " 5 0.78680 0.14015 0.22054\n",
      " 6 0.92334 0.11872 0.21924\n",
      " 7 1.00000 0.02256 0.04513\n"
     ]
    }
   ],
   "source": [
    "s.update_quadrature()\n",
    "print(\" i    mu    weight  2*mu*w\")\n",
    "for i, mu in enumerate(s.nu):\n",
    "    two_mu_w = s.twonuw[i]\n",
    "    w = two_mu_w / 2 / mu\n",
    "    print(\"%2d %.5f %.5f %.5f\" % (i, mu, w, two_mu_w))"
   ]
  },
  {
   "cell_type": "markdown",
   "id": "automatic-antibody",
   "metadata": {},
   "source": [
    "The reflection and transmission matrices for this sample for light from the bottom and light from the top are identical (and they should be because of the symmetry)."
   ]
  },
  {
   "cell_type": "code",
   "execution_count": 7,
   "id": "beneficial-brown",
   "metadata": {},
   "outputs": [
    {
     "name": "stdout",
     "output_type": "stream",
     "text": [
      "Reflected light for light incident from the top\n",
      "cos_theta |  0.04436  0.21087  0.42810  0.59461  0.67095  0.78680  0.92334  1.00000 |     flux\n",
      "----------+-------------------------------------------------------------------------+---------\n",
      "  0.04436 |    *****  0.00000  0.00000  0.00000  0.00000  0.00000  0.00000  0.00000 |  1.00000\n",
      "  0.21087 |  0.00000 11.38065  0.00000  0.00000  0.00000  0.00000  0.00000  0.00000 |  1.00000\n",
      "  0.42810 |  0.00000  0.00000  5.60563  0.00000  0.00000  0.00000  0.00000  0.00000 |  1.00000\n",
      "  0.59461 |  0.00000  0.00000  0.00000  7.56644  0.00000  0.00000  0.00000  0.00000 |  1.00000\n",
      "  0.67095 |  0.00000  0.00000  0.00000  0.00000  2.88453  0.38974  0.25353  0.17360 |  0.45746\n",
      "  0.78680 |  0.00000  0.00000  0.00000  0.00000  0.38974  0.71843  0.23342  0.17512 |  0.25915\n",
      "  0.92334 |  0.00000  0.00000  0.00000  0.00000  0.25353  0.23342  0.42720  0.17235 |  0.17999\n",
      "  1.00000 |  0.00000  0.00000  0.00000  0.00000  0.17360  0.17512  0.17235  1.36458 |  0.15653\n",
      "----------+-------------------------------------------------------------------------+---------\n",
      "  flux    |  1.00000  1.00000  1.00000  1.00000  0.45746  0.25915  0.17999  0.15653 |  0.25779\n",
      "\n",
      "Reflected light for light incident from the bottom\n",
      "cos_theta |  0.04436  0.21087  0.42810  0.59461  0.67095  0.78680  0.92334  1.00000 |     flux\n",
      "----------+-------------------------------------------------------------------------+---------\n",
      "  0.04436 |    *****  0.00000  0.00000  0.00000  0.00000  0.00000  0.00000  0.00000 |  1.00000\n",
      "  0.21087 |  0.00000 11.38065  0.00000  0.00000  0.00000  0.00000  0.00000  0.00000 |  1.00000\n",
      "  0.42810 |  0.00000  0.00000  5.60563  0.00000  0.00000  0.00000  0.00000  0.00000 |  1.00000\n",
      "  0.59461 |  0.00000  0.00000  0.00000  7.56644  0.00000  0.00000  0.00000  0.00000 |  1.00000\n",
      "  0.67095 |  0.00000  0.00000  0.00000  0.00000  2.88453  0.38974  0.25353  0.17360 |  0.45746\n",
      "  0.78680 |  0.00000  0.00000  0.00000  0.00000  0.38974  0.71843  0.23342  0.17512 |  0.25915\n",
      "  0.92334 |  0.00000  0.00000  0.00000  0.00000  0.25353  0.23342  0.42720  0.17235 |  0.17999\n",
      "  1.00000 |  0.00000  0.00000  0.00000  0.00000  0.17360  0.17512  0.17235  1.36458 |  0.15653\n",
      "----------+-------------------------------------------------------------------------+---------\n",
      "  flux    |  1.00000  1.00000  1.00000  1.00000  0.45746  0.25915  0.17999  0.15653 |  0.25779\n",
      "\n",
      "\n",
      "**************\n",
      "Transmitted light for light incident from the top\n",
      "cos_theta |  0.04436  0.21087  0.42810  0.59461  0.67095  0.78680  0.92334  1.00000 |     flux\n",
      "----------+-------------------------------------------------------------------------+---------\n",
      "  0.04436 |  0.00000  0.00000  0.00000  0.00000  0.00000  0.00000  0.00000  0.00000 |  0.00000\n",
      "  0.21087 |  0.00000  0.00000  0.00000  0.00000  0.00000  0.00000  0.00000  0.00000 |  0.00000\n",
      "  0.42810 |  0.00000  0.00000  0.00000  0.00000  0.00000  0.00000  0.00000  0.00000 |  0.00000\n",
      "  0.59461 |  0.00000  0.00000  0.00000  0.00000  0.00000  0.00000  0.00000  0.00000 |  0.00000\n",
      "  0.67095 |  0.00000  0.00000  0.00000  0.00000  1.69431  0.76974  0.48614  0.27132 |  0.46955\n",
      "  0.78680 |  0.00000  0.00000  0.00000  0.00000  0.76974  1.83329  0.75453  0.45837 |  0.67264\n",
      "  0.92334 |  0.00000  0.00000  0.00000  0.00000  0.48614  0.75453  2.25604  1.27402 |  0.77044\n",
      "  1.00000 |  0.00000  0.00000  0.00000  0.00000  0.27132  0.45837  1.27402  8.68648 |  0.80139\n",
      "----------+-------------------------------------------------------------------------+---------\n",
      "  flux    |  0.00000  0.00000  0.00000  0.00000  0.46955  0.67264  0.77044  0.80139 |  0.68204\n",
      "\n",
      "Transmitted light for light incident from the bottom\n",
      "cos_theta |  0.04436  0.21087  0.42810  0.59461  0.67095  0.78680  0.92334  1.00000 |     flux\n",
      "----------+-------------------------------------------------------------------------+---------\n",
      "  0.04436 |  0.00000  0.00000  0.00000  0.00000  0.00000  0.00000  0.00000  0.00000 |  0.00000\n",
      "  0.21087 |  0.00000  0.00000  0.00000  0.00000  0.00000  0.00000  0.00000  0.00000 |  0.00000\n",
      "  0.42810 |  0.00000  0.00000  0.00000  0.00000  0.00000  0.00000  0.00000  0.00000 |  0.00000\n",
      "  0.59461 |  0.00000  0.00000  0.00000  0.00000  0.00000  0.00000  0.00000  0.00000 |  0.00000\n",
      "  0.67095 |  0.00000  0.00000  0.00000  0.00000  1.69431  0.76974  0.48614  0.27132 |  0.46955\n",
      "  0.78680 |  0.00000  0.00000  0.00000  0.00000  0.76974  1.83329  0.75453  0.45837 |  0.67264\n",
      "  0.92334 |  0.00000  0.00000  0.00000  0.00000  0.48614  0.75453  2.25604  1.27402 |  0.77044\n",
      "  1.00000 |  0.00000  0.00000  0.00000  0.00000  0.27132  0.45837  1.27402  8.68648 |  0.80139\n",
      "----------+-------------------------------------------------------------------------+---------\n",
      "  flux    |  0.00000  0.00000  0.00000  0.00000  0.46955  0.67264  0.77044  0.80139 |  0.68204\n",
      "\n"
     ]
    }
   ],
   "source": [
    "R03, R30, T03, T30 = s.rt_matrices()\n",
    "\n",
    "print(\"Reflected light for light incident from the top\")\n",
    "s.wrmatrix(R03)\n",
    "\n",
    "print(\"Reflected light for light incident from the bottom\")\n",
    "s.wrmatrix(R30)\n",
    "\n",
    "print(\"\\n**************\\nTransmitted light for light incident from the top\")\n",
    "s.wrmatrix(T03)\n",
    "\n",
    "print(\"Transmitted light for light incident from the bottom\")\n",
    "s.wrmatrix(T30)"
   ]
  },
  {
   "cell_type": "markdown",
   "id": "progressive-leeds",
   "metadata": {},
   "source": [
    "Now, break symmetry and recalculate to see that that matrices for light"
   ]
  },
  {
   "cell_type": "code",
   "execution_count": 8,
   "id": "wrapped-introduction",
   "metadata": {},
   "outputs": [
    {
     "name": "stdout",
     "output_type": "stream",
     "text": [
      "Intrinsic Properties\n",
      "   albedo              = 0.900\n",
      "   optical thickness   = 1.000\n",
      "   anisotropy          = 0.000\n",
      "   thickness           = 2.000 mm\n",
      "   sample index        = 1.330\n",
      "   top slide index     = 1.532\n",
      "   bottom slide index  = 1.000\n",
      "   cos(theta incident) = 1.000\n",
      "   quadrature points   = 8\n",
      "\n",
      "Derived quantities\n",
      "   mu_a                = 0.050 1/mm\n",
      "   mu_s                = 0.450 1/mm\n",
      "   mu_s*(1-g)          = 0.450 1/mm\n",
      "       theta incident  = 0.0°\n",
      "   cos(theta critical) = 0.6593\n",
      "       theta critical  = 48.8°\n",
      "\n",
      "Reflected light for light incident from the top\n",
      "cos_theta |  0.04578  0.21758  0.44172  0.61352  0.68948  0.79881  0.92766  1.00000 |     flux\n",
      "----------+-------------------------------------------------------------------------+---------\n",
      "  0.04578 | 95.25256  0.00000  0.00000  0.00000  0.00000  0.00000  0.00000  0.00000 |  1.00000\n",
      "  0.21758 |  0.00000 10.68963  0.00000  0.00000  0.00000  0.00000  0.00000  0.00000 |  1.00000\n",
      "  0.44172 |  0.00000  0.00000  5.26527  0.00000  0.00000  0.00000  0.00000  0.00000 |  1.00000\n",
      "  0.61352 |  0.00000  0.00000  0.00000  7.10701  0.00000  0.00000  0.00000  0.00000 |  1.00000\n",
      "  0.68948 |  0.00000  0.00000  0.00000  0.00000  2.81749  0.35725  0.33522  0.32080 |  0.45065\n",
      "  0.79881 |  0.00000  0.00000  0.00000  0.00000  0.35725  0.76189  0.37167  0.35576 |  0.29040\n",
      "  0.92766 |  0.00000  0.00000  0.00000  0.00000  0.33522  0.37167  0.60179  0.33436 |  0.25258\n",
      "  1.00000 |  0.00000  0.00000  0.00000  0.00000  0.32080  0.35576  0.33436  1.52141 |  0.24269\n",
      "----------+-------------------------------------------------------------------------+---------\n",
      "  flux    |  1.00000  1.00000  1.00000  1.00000  0.45065  0.29040  0.25258  0.24269 |  0.30226\n",
      "\n",
      "Reflected light for light incident from the bottom\n",
      "cos_theta |  0.04578  0.21758  0.44172  0.61352  0.68948  0.79881  0.92766  1.00000 |     flux\n",
      "----------+-------------------------------------------------------------------------+---------\n",
      "  0.04578 | 95.25256  0.00000  0.00000  0.00000  0.00000  0.00000  0.00000  0.00000 |  1.00000\n",
      "  0.21758 |  0.00000 10.68963  0.00000  0.00000  0.00000  0.00000  0.00000  0.00000 |  1.00000\n",
      "  0.44172 |  0.00000  0.00000  5.26527  0.00000  0.00000  0.00000  0.00000  0.00000 |  1.00000\n",
      "  0.61352 |  0.00000  0.00000  0.00000  7.10701  0.00000  0.00000  0.00000  0.00000 |  1.00000\n",
      "  0.68948 |  0.00000  0.00000  0.00000  0.00000  2.39508  0.40407  0.37627  0.36010 |  0.42700\n",
      "  0.79881 |  0.00000  0.00000  0.00000  0.00000  0.40407  0.64436  0.40471  0.38740 |  0.27863\n",
      "  0.92766 |  0.00000  0.00000  0.00000  0.00000  0.37627  0.40471  0.50556  0.36130 |  0.24496\n",
      "  1.00000 |  0.00000  0.00000  0.00000  0.00000  0.36010  0.38740  0.36130  0.96565 |  0.23538\n",
      "----------+-------------------------------------------------------------------------+---------\n",
      "  flux    |  1.00000  1.00000  1.00000  1.00000  0.42700  0.27863  0.24496  0.23538 |  0.29018\n",
      "\n",
      "\n",
      "**************\n",
      "Transmitted light for light incident from the top\n",
      "cos_theta |  0.04578  0.21758  0.44172  0.61352  0.68948  0.79881  0.92766  1.00000 |     flux\n",
      "----------+-------------------------------------------------------------------------+---------\n",
      "  0.04578 |  0.00000  0.00000  0.00000  0.00000  0.00000  0.00000  0.00000  0.00000 |  0.00000\n",
      "  0.21758 |  0.00000  0.00000  0.00000  0.00000  0.00000  0.00000  0.00000  0.00000 |  0.00000\n",
      "  0.44172 |  0.00000  0.00000  0.00000  0.00000  0.00000  0.00000  0.00000  0.00000 |  0.00000\n",
      "  0.61352 |  0.00000  0.00000  0.00000  0.00000  0.00000  0.00000  0.00000  0.00000 |  0.00000\n",
      "  0.68948 |  0.00000  0.00000  0.00000  0.00000  1.66974  0.34862  0.33139  0.31913 |  0.32908\n",
      "  0.79881 |  0.00000  0.00000  0.00000  0.00000  0.33805  1.58114  0.35835  0.34503 |  0.45828\n",
      "  0.92766 |  0.00000  0.00000  0.00000  0.00000  0.31880  0.35551  1.85951  0.32490 |  0.50850\n",
      "  1.00000 |  0.00000  0.00000  0.00000  0.00000  0.30702  0.34231  0.32491  8.36577 |  0.52794\n",
      "----------+-------------------------------------------------------------------------+---------\n",
      "  flux    |  0.00000  0.00000  0.00000  0.00000  0.32371  0.45867  0.51040  0.52977 |  0.45832\n",
      "\n",
      "Transmitted light for light incident from the bottom\n",
      "cos_theta |  0.04578  0.21758  0.44172  0.61352  0.68948  0.79881  0.92766  1.00000 |     flux\n",
      "----------+-------------------------------------------------------------------------+---------\n",
      "  0.04578 |  0.00000  0.00000  0.00000  0.00000  0.00000  0.00000  0.00000  0.00000 |  0.00000\n",
      "  0.21758 |  0.00000  0.00000  0.00000  0.00000  0.00000  0.00000  0.00000  0.00000 |  0.00000\n",
      "  0.44172 |  0.00000  0.00000  0.00000  0.00000  0.00000  0.00000  0.00000  0.00000 |  0.00000\n",
      "  0.61352 |  0.00000  0.00000  0.00000  0.00000  0.00000  0.00000  0.00000  0.00000 |  0.00000\n",
      "  0.68948 |  0.00000  0.00000  0.00000  0.00000  1.66974  0.33805  0.31880  0.30702 |  0.32371\n",
      "  0.79881 |  0.00000  0.00000  0.00000  0.00000  0.34862  1.58114  0.35551  0.34231 |  0.45867\n",
      "  0.92766 |  0.00000  0.00000  0.00000  0.00000  0.33139  0.35835  1.85951  0.32491 |  0.51040\n",
      "  1.00000 |  0.00000  0.00000  0.00000  0.00000  0.31913  0.34503  0.32490  8.36577 |  0.52977\n",
      "----------+-------------------------------------------------------------------------+---------\n",
      "  flux    |  0.00000  0.00000  0.00000  0.00000  0.32908  0.45828  0.50850  0.52794 |  0.45832\n",
      "\n"
     ]
    }
   ],
   "source": [
    "s = iadpython.Sample()\n",
    "s.a = 0.90  # albedo\n",
    "s.b = 1.0  # optical thickness\n",
    "s.g = 0.0  # scattering anisotropy\n",
    "s.d = 2.0  # physical thickness of the sample\n",
    "s.quad_pts = 8\n",
    "s.n = 1.33\n",
    "s.n_above = 1.532\n",
    "s.n_below = 1.0\n",
    "print(s)\n",
    "\n",
    "R03, R30, T03, T30 = s.rt_matrices()\n",
    "\n",
    "print(\"Reflected light for light incident from the top\")\n",
    "s.wrmatrix(R03)\n",
    "\n",
    "print(\"Reflected light for light incident from the bottom\")\n",
    "s.wrmatrix(R30)\n",
    "\n",
    "print(\"\\n**************\\nTransmitted light for light incident from the top\")\n",
    "s.wrmatrix(T03)\n",
    "\n",
    "print(\"Transmitted light for light incident from the bottom\")\n",
    "s.wrmatrix(T30)"
   ]
  },
  {
   "cell_type": "code",
   "execution_count": null,
   "id": "dressed-display",
   "metadata": {},
   "outputs": [],
   "source": []
  }
 ],
 "metadata": {
  "kernelspec": {
   "display_name": "Python 3 (ipykernel)",
   "language": "python",
   "name": "python3"
  },
  "language_info": {
   "codemirror_mode": {
    "name": "ipython",
    "version": 3
   },
   "file_extension": ".py",
   "mimetype": "text/x-python",
   "name": "python",
   "nbconvert_exporter": "python",
   "pygments_lexer": "ipython3",
   "version": "3.13.2"
  }
 },
 "nbformat": 4,
 "nbformat_minor": 5
}
